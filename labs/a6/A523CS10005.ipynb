{
 "cells": [
  {
   "cell_type": "markdown",
   "id": "ff342261-06a0-4bc5-9732-06be28c268ce",
   "metadata": {},
   "source": [
    "# q1"
   ]
  },
  {
   "cell_type": "code",
   "execution_count": 22,
   "id": "c7d76d21-49e0-4aa2-b5b2-6e4b45faeae5",
   "metadata": {},
   "outputs": [
    {
     "name": "stdout",
     "output_type": "stream",
     "text": [
      "     *     \n",
      "    ***    \n",
      "   *****   \n",
      "  *******  \n",
      "     *     \n",
      "     *     \n",
      "     *     \n"
     ]
    }
   ],
   "source": [
    "#a1: simple pattern printing\n",
    "print(\"     *     \")\n",
    "print(\"    ***    \")\n",
    "print(\"   *****   \")\n",
    "print(\"  *******  \")\n",
    "print(\"     *     \")\n",
    "print(\"     *     \")\n",
    "print(\"     *     \")"
   ]
  },
  {
   "cell_type": "markdown",
   "id": "502bf560-26c5-4e9d-83a2-f31608999f65",
   "metadata": {},
   "source": [
    "# q2"
   ]
  },
  {
   "cell_type": "code",
   "execution_count": 5,
   "id": "dbb1937d-1f88-4882-814e-fb093e4ea0b2",
   "metadata": {},
   "outputs": [
    {
     "name": "stdout",
     "output_type": "stream",
     "text": [
      "G = 6.674079999999999e-11 N m^2 kg^-2\n",
      "M = 5.972e+24 kg\n",
      "R = 6378000 meters\n",
      "g = 9.798106988382472 m/s^2\n"
     ]
    }
   ],
   "source": [
    "#a2: gravitational acceleration\n",
    "G = 6.67408 * 10**-11 \n",
    "M = 5.972 * 10**24\n",
    "R = 6378 * 10**3\n",
    "\n",
    "g = G * M / (R**2)\n",
    "\n",
    "print(f\"G = {G} N m^2 kg^-2\")\n",
    "print(f\"M = {M} kg\")\n",
    "print(f\"R = {R} meters\")\n",
    "print(f\"g = {g} m/s^2\")"
   ]
  },
  {
   "cell_type": "markdown",
   "id": "a90ccf9e-2a99-4585-9ad2-bfbe99b906bc",
   "metadata": {},
   "source": [
    "# q3"
   ]
  },
  {
   "cell_type": "code",
   "execution_count": 8,
   "id": "12def047-d55e-4356-b99e-6f5348f1946d",
   "metadata": {},
   "outputs": [
    {
     "name": "stdin",
     "output_type": "stream",
     "text": [
      "enter the number of seconds:  1000\n"
     ]
    },
    {
     "name": "stdout",
     "output_type": "stream",
     "text": [
      "0-16-40\n"
     ]
    }
   ],
   "source": [
    "#a3: convert seconds into hh:mm:ss format\n",
    "seconds = int(input(\"enter the number of seconds: \"))\n",
    "\n",
    "hours = seconds // 3600\n",
    "minutes = (seconds % 3600) // 60\n",
    "sec = seconds % 60\n",
    "\n",
    "print(f\"{hours}-{minutes}-{sec}\")"
   ]
  },
  {
   "cell_type": "markdown",
   "id": "2d3bccc7-fe6d-459b-9c5b-b195d93a1ef3",
   "metadata": {},
   "source": [
    "# q4"
   ]
  },
  {
   "cell_type": "code",
   "execution_count": 17,
   "id": "8d3fb943-2087-48be-9936-53c16159a519",
   "metadata": {},
   "outputs": [
    {
     "name": "stdin",
     "output_type": "stream",
     "text": [
      "enter the temperature in degrees F:  100\n"
     ]
    },
    {
     "name": "stdout",
     "output_type": "stream",
     "text": [
      "100.0 degrees F = 37.77777777777778 degrees C\n"
     ]
    }
   ],
   "source": [
    "#a4: fix temperature conversion program\n",
    "degreesF = float(input('enter the temperature in degrees F: ')) \n",
    "degreesC = 5 / 9 * (degreesF - 32)\n",
    "print(f\"{degreesF} degrees F = {degreesC} degrees C\")"
   ]
  },
  {
   "cell_type": "markdown",
   "id": "4146f7cb-0ce6-4fea-8fb4-ca2e2972f8b4",
   "metadata": {},
   "source": [
    "# q5"
   ]
  },
  {
   "cell_type": "code",
   "execution_count": 16,
   "id": "b3f361ca-36d4-42f5-99b3-ca321fcaf4dc",
   "metadata": {},
   "outputs": [
    {
     "name": "stdin",
     "output_type": "stream",
     "text": [
      "enter a string:  ashu\n",
      "enter the starting index:  2\n",
      "enter the ending index:  3\n"
     ]
    },
    {
     "name": "stdout",
     "output_type": "stream",
     "text": [
      "Uppercase: ASHU\n",
      "Lowercase: ashu\n",
      "Reversed: uhsa\n",
      "Substring: h\n"
     ]
    }
   ],
   "source": [
    "#a5: string manipulations\n",
    "input_string = input(\"enter a string: \")\n",
    "\n",
    "uppercase_string = input_string.upper()\n",
    "lowercase_string = input_string.lower()\n",
    "reversed_string = input_string[::-1]\n",
    "\n",
    "i = int(input(\"enter the starting index: \"))\n",
    "j = int(input(\"enter the ending index: \"))\n",
    "substring = input_string[i:j]\n",
    "\n",
    "print(f\"Uppercase: {uppercase_string}\")\n",
    "print(f\"Lowercase: {lowercase_string}\")\n",
    "print(f\"Reversed: {reversed_string}\")\n",
    "print(f\"Substring: {substring}\")"
   ]
  },
  {
   "cell_type": "markdown",
   "id": "12249c48-add0-4fc1-ace6-1048bf3b91af",
   "metadata": {},
   "source": [
    "# q6"
   ]
  },
  {
   "cell_type": "code",
   "execution_count": 33,
   "id": "7cdaec73-688e-45e8-9c25-f4abbba609a1",
   "metadata": {},
   "outputs": [
    {
     "name": "stdout",
     "output_type": "stream",
     "text": [
      "list 1: [2, 4, 9, 1, 3]\n",
      "list 2: [6, 9, 1, 3, 10]\n",
      "union: {1, 2, 3, 4, 6, 9, 10}\n",
      "intersection: {1, 3, 9}\n",
      "difference: {2, 4}\n"
     ]
    }
   ],
   "source": [
    "#a6: random int list manipulation\n",
    "import random\n",
    "\n",
    "list1 = [random.randint(1, 10) for _ in range(5)]\n",
    "list2 = [random.randint(1, 10) for _ in range(5)]\n",
    "\n",
    "set1 = set(list1)\n",
    "set2 = set(list2)\n",
    "\n",
    "union = set1.union(set2)\n",
    "intersection = set1.intersection(set2)\n",
    "difference = set1.difference(set2)\n",
    "\n",
    "print(f\"list 1: {list1}\")\n",
    "print(f\"list 2: {list2}\")\n",
    "print(f\"union: {union}\")\n",
    "print(f\"intersection: {intersection}\")\n",
    "print(f\"difference: {difference}\")"
   ]
  },
  {
   "cell_type": "markdown",
   "id": "3ac53960-25c7-414e-9a09-2d404908db2e",
   "metadata": {},
   "source": [
    "# q7"
   ]
  },
  {
   "cell_type": "code",
   "execution_count": 25,
   "id": "cc57aad6-a0c4-4024-bf82-f305833361e0",
   "metadata": {},
   "outputs": [
    {
     "name": "stdin",
     "output_type": "stream",
     "text": [
      "enter the total number of units consumed:  300\n"
     ]
    },
    {
     "name": "stdout",
     "output_type": "stream",
     "text": [
      "Rs. 6234.0\n"
     ]
    }
   ],
   "source": [
    "#a7: calculate electric bill\n",
    "units = float(input(\"enter the total number of units consumed: \"))\n",
    "\n",
    "if units <= 100:\n",
    "    bill = units * 50\n",
    "elif units <= 200:\n",
    "    bill = 100 * 50 + (units - 100) * 0.75\n",
    "elif units <= 300:\n",
    "    bill = 100 * 50 + 100 * 0.75 + (units - 200) * 1.20\n",
    "else:\n",
    "    bill = 100 * 50 + 100 * 0.75 + 100 * 1.20 + (units - 300) * 1.50\n",
    "\n",
    "bill += bill * 0.20\n",
    "\n",
    "print(f\"Rs. {bill:.1f}\")"
   ]
  },
  {
   "cell_type": "markdown",
   "id": "0e4db03a-406d-4580-a2e4-3b5bee0be304",
   "metadata": {},
   "source": [
    "# q8"
   ]
  },
  {
   "cell_type": "code",
   "execution_count": 26,
   "id": "fd07a2d3-7865-4fab-ab08-730fc03fde0e",
   "metadata": {},
   "outputs": [
    {
     "name": "stdin",
     "output_type": "stream",
     "text": [
      "enter coordinates of point 1 (x1 y1):  2 3\n",
      "enter coordinates of point 2 (x2 y2):  3 4\n",
      "enter coordinates of point 3 (x3 y3):  5 6\n"
     ]
    },
    {
     "name": "stdout",
     "output_type": "stream",
     "text": [
      "colinear\n"
     ]
    }
   ],
   "source": [
    "#a8: check if three points are collinear\n",
    "x1, y1 = map(int, input(\"enter coordinates of point 1 (x1 y1): \").split())\n",
    "x2, y2 = map(int, input(\"enter coordinates of point 2 (x2 y2): \").split())\n",
    "x3, y3 = map(int, input(\"enter coordinates of point 3 (x3 y3): \").split())\n",
    "\n",
    "if (y2 - y1) * (x3 - x2) == (y3 - y2) * (x2 - x1):\n",
    "    print(\"colinear\")\n",
    "else:\n",
    "    print(\"try with other points\")"
   ]
  },
  {
   "cell_type": "markdown",
   "id": "68742577-9d17-410a-bb5c-74fdababa143",
   "metadata": {},
   "source": [
    "# q9"
   ]
  },
  {
   "cell_type": "code",
   "execution_count": 35,
   "id": "81cdfc94-2fab-4027-9fd4-6748ebc920bf",
   "metadata": {},
   "outputs": [
    {
     "name": "stdin",
     "output_type": "stream",
     "text": [
      "enter positive numbers (0/negative to stop):  34\n",
      "enter positive numbers (0/negative to stop):  34\n",
      "enter positive numbers (0/negative to stop):  63\n",
      "enter positive numbers (0/negative to stop):  26\n",
      "enter positive numbers (0/negative to stop):  27\n",
      "enter positive numbers (0/negative to stop):  83\n",
      "enter positive numbers (0/negative to stop):  38\n",
      "enter positive numbers (0/negative to stop):  0\n"
     ]
    },
    {
     "name": "stdout",
     "output_type": "stream",
     "text": [
      "\n",
      "smallest number: 26.0\n",
      "median: 34.0\n",
      "mean: 43.57142857142857\n"
     ]
    }
   ],
   "source": [
    "#a9: compute smallest, median, and mean of the list\n",
    "\n",
    "def get_stats():\n",
    "    numbers = []\n",
    "    \n",
    "    while True:\n",
    "        num = float(input(\"enter positive numbers (0/negative to stop): \"))\n",
    "        if num <= 0:\n",
    "            break\n",
    "        numbers.append(num)\n",
    "    \n",
    "    if not numbers:\n",
    "        print(\"no positive numbers entered.\")\n",
    "        return\n",
    "    \n",
    "    smallest = min(numbers)\n",
    "    \n",
    "    mean = sum(numbers) / len(numbers)\n",
    "    \n",
    "    numbers.sort()\n",
    "    n = len(numbers)\n",
    "    if n % 2 == 0:\n",
    "        median = (numbers[n//2 - 1] + numbers[n//2]) / 2\n",
    "    else:\n",
    "        median = numbers[n//2]\n",
    "\n",
    "    print(\"\")\n",
    "    print(f\"smallest number: {smallest}\")\n",
    "    print(f\"median: {median}\")\n",
    "    print(f\"mean: {mean}\")\n",
    "\n",
    "get_stats()"
   ]
  },
  {
   "cell_type": "markdown",
   "id": "8dc00661-2030-4a46-8622-2902b8a4948c",
   "metadata": {},
   "source": [
    "# q10"
   ]
  },
  {
   "cell_type": "code",
   "execution_count": 37,
   "id": "fe927bfe-b53a-433e-a4e6-967147860e9f",
   "metadata": {},
   "outputs": [
    {
     "name": "stdin",
     "output_type": "stream",
     "text": [
      "enter number of rows (m) for matrix A:  2\n",
      "enter number of columns (n) for matrix A (also rows for B):  2\n",
      "enter number of columns (p) for matrix B:  3\n"
     ]
    },
    {
     "name": "stdout",
     "output_type": "stream",
     "text": [
      "\n",
      "matrix A:\n",
      "4 2\n",
      "2 9\n",
      "\n",
      "matrix B:\n",
      "5 2 2\n",
      "5 9 5\n",
      "\n",
      "matrix C = A×B:\n",
      "30 26 18\n",
      "55 85 49\n",
      "\n"
     ]
    }
   ],
   "source": [
    "#a10: matrix multiplication\n",
    "import random\n",
    "\n",
    "def create_random_matrix(m, n):\n",
    "    matrix = []\n",
    "    for i in range(m):\n",
    "        row = [random.randint(1, 10) for _ in range(n)]\n",
    "        matrix.append(row)\n",
    "    return matrix\n",
    "\n",
    "def print_matrix(matrix):\n",
    "    for row in matrix:\n",
    "        print(\" \".join(str(num) for num in row))\n",
    "    print()\n",
    "\n",
    "def multiply_matrices(A, B):\n",
    "    m = len(A)\n",
    "    n = len(A[0])\n",
    "    p = len(B[0])\n",
    "    \n",
    "    C = [[0 for _ in range(p)] for _ in range(m)]\n",
    "    \n",
    "    for i in range(m):\n",
    "        for j in range(p):\n",
    "            for k in range(n):\n",
    "                C[i][j] += A[i][k] * B[k][j]\n",
    "    \n",
    "    return C\n",
    "\n",
    "m = int(input(\"enter number of rows (m) for matrix A: \"))\n",
    "n = int(input(\"enter number of columns (n) for matrix A (also rows for B): \"))\n",
    "p = int(input(\"enter number of columns (p) for matrix B: \"))\n",
    "\n",
    "A = create_random_matrix(m, n)\n",
    "B = create_random_matrix(n, p)\n",
    "\n",
    "print(\"\\nmatrix A:\")\n",
    "print_matrix(A)\n",
    "\n",
    "print(\"matrix B:\")\n",
    "print_matrix(B)\n",
    "\n",
    "C = multiply_matrices(A, B)\n",
    "\n",
    "print(\"matrix C = A×B:\")\n",
    "print_matrix(C)"
   ]
  },
  {
   "cell_type": "markdown",
   "id": "7e9521b4-53cf-43e7-92e0-046e06427179",
   "metadata": {},
   "source": [
    "# q11"
   ]
  },
  {
   "cell_type": "code",
   "execution_count": 45,
   "id": "44217a2f-23b3-4c08-a5b6-0204c8e984e8",
   "metadata": {},
   "outputs": [
    {
     "name": "stdin",
     "output_type": "stream",
     "text": [
      "enter the number of random values to generate:  10\n",
      "enter the maximum value for random numbers:  10\n"
     ]
    },
    {
     "name": "stdout",
     "output_type": "stream",
     "text": [
      "\n",
      "generated list: [2, 2, 8, 1, 3, 3, 5, 10, 6, 1]\n",
      "\n",
      "fibonacci numbers in the list: [2, 2, 8, 1, 3, 3, 5, 1]\n",
      "count of fibonacci numbers: 8\n"
     ]
    }
   ],
   "source": [
    "#a11: fib num check\n",
    "import random\n",
    "\n",
    "def is_fibonacci(num):\n",
    "    if num < 0:\n",
    "        return False\n",
    "    \n",
    "    check1 = 5 * (num * num) + 4\n",
    "    sqrt1 = int(check1 ** 0.5)\n",
    "    if sqrt1 * sqrt1 == check1:\n",
    "        return True\n",
    "    \n",
    "    check2 = 5 * (num * num) - 4\n",
    "    sqrt2 = int(check2 ** 0.5)\n",
    "    if sqrt2 * sqrt2 == check2:\n",
    "        return True\n",
    "    \n",
    "    return False\n",
    "\n",
    "def main():\n",
    "    n = int(input(\"enter the number of random values to generate: \"))\n",
    "    max_value = int(input(\"enter the maximum value for random numbers: \"))\n",
    "    \n",
    "    random_numbers = [random.randint(1, max_value) for _ in range(n)]\n",
    "    print(f\"\\ngenerated list: {random_numbers}\")\n",
    "    \n",
    "    fibonacci_numbers = [num for num in random_numbers if is_fibonacci(num)]\n",
    "    \n",
    "    print(f\"\\nfibonacci numbers in the list: {fibonacci_numbers}\")\n",
    "    print(f\"count of fibonacci numbers: {len(fibonacci_numbers)}\")\n",
    "\n",
    "main()"
   ]
  },
  {
   "cell_type": "markdown",
   "id": "4a491bbc-eee7-4fe2-bb13-996762420f1a",
   "metadata": {},
   "source": [
    "# q12"
   ]
  },
  {
   "cell_type": "code",
   "execution_count": null,
   "id": "d753ca8f-537d-4f7c-b6cd-6c7df0d97ea4",
   "metadata": {},
   "outputs": [],
   "source": [
    "#a12: fib number series\n",
    "def foo(n: int):\n",
    "    i = 1     \n",
    "    j = 1     \n",
    "    \n",
    "    print(i, j, end=', ')\n",
    "    \n",
    "    for _ in range(3, n+1): \n",
    "        k = i + j     \n",
    "        print(k, end=', ')  \n",
    "        i = j        \n",
    "        j = k\n",
    "\n",
    "\n",
    "def fooSum(n: int) -> int:\n",
    "    sum = 0\n",
    "    i = 1    \n",
    "    j = 1    \n",
    "    \n",
    "    if n == 1:\n",
    "        sum = 1\n",
    "    elif n == 2:    # fixed the 'if' to 'elif'\n",
    "        sum = 1 + 1  # sum of first two fibonacci numbers\n",
    "    elif n >= 3:    # fixed the 'if' to 'elif'\n",
    "        sum = 2      # start with sum of first two numbers\n",
    "        for _ in range(3, n+1):\n",
    "            k = i + j\n",
    "            sum = sum + k\n",
    "            i = j    # update values for next iteration\n",
    "            j = k\n",
    "    \n",
    "    return sum\n",
    "\n",
    "\n",
    "# driver code\n",
    "n = int(input('enter the value of n: '))\n",
    "\n",
    "# fixed function name\n",
    "foo(n) \n",
    "\n",
    "# fixed function name and call\n",
    "x = fooSum(n)\n",
    "print('\\nthe sum of %d fibonacci numbers is %d' % (n, x))"
   ]
  },
  {
   "cell_type": "code",
   "execution_count": null,
   "id": "edf5ed66-9c0d-4b75-b6e1-4eae3760821f",
   "metadata": {},
   "outputs": [],
   "source": []
  }
 ],
 "metadata": {
  "kernelspec": {
   "display_name": "Python 3 (ipykernel)",
   "language": "python",
   "name": "python3"
  },
  "language_info": {
   "codemirror_mode": {
    "name": "ipython",
    "version": 3
   },
   "file_extension": ".py",
   "mimetype": "text/x-python",
   "name": "python",
   "nbconvert_exporter": "python",
   "pygments_lexer": "ipython3",
   "version": "3.12.7"
  }
 },
 "nbformat": 4,
 "nbformat_minor": 5
}
